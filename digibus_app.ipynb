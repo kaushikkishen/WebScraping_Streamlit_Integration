{
 "cells": [
  {
   "cell_type": "code",
   "execution_count": 2,
   "id": "5f49c0f2",
   "metadata": {},
   "outputs": [],
   "source": [
    "import pandas as pd"
   ]
  },
  {
   "cell_type": "code",
   "execution_count": 3,
   "id": "ef45eb9d",
   "metadata": {},
   "outputs": [],
   "source": [
    "def get_data():\n",
    "\n",
    "    df = pd.read_csv('finalbusdetails.csv')\n",
    "    \n",
    "    return df"
   ]
  },
  {
   "cell_type": "code",
   "execution_count": 9,
   "id": "6a1da276",
   "metadata": {},
   "outputs": [
    {
     "name": "stdout",
     "output_type": "stream",
     "text": [
      "Collecting protobuf==3.20.*\n",
      "  Downloading protobuf-3.20.3-cp39-cp39-win_amd64.whl.metadata (699 bytes)\n",
      "Downloading protobuf-3.20.3-cp39-cp39-win_amd64.whl (904 kB)\n",
      "   ---------------------------------------- 904.2/904.2 kB 5.2 MB/s eta 0:00:00\n",
      "Installing collected packages: protobuf\n",
      "  Attempting uninstall: protobuf\n",
      "    Found existing installation: protobuf 5.27.4\n",
      "    Uninstalling protobuf-5.27.4:\n",
      "      Successfully uninstalled protobuf-5.27.4\n",
      "Successfully installed protobuf-3.20.3\n"
     ]
    },
    {
     "name": "stderr",
     "output_type": "stream",
     "text": [
      "WARNING: Ignoring invalid distribution -rotobuf (c:\\users\\dell\\anaconda3\\lib\\site-packages)\n",
      "WARNING: Ignoring invalid distribution -rotobuf (c:\\users\\dell\\anaconda3\\lib\\site-packages)\n",
      "ERROR: pip's dependency resolver does not currently take into account all the packages that are installed. This behaviour is the source of the following dependency conflicts.\n",
      "google-cloud-core 1.7.1 requires google-api-core<2.0.0dev,>=1.21.0, but you have google-api-core 2.19.0 which is incompatible.\n",
      "google-cloud-core 1.7.1 requires google-auth<2.0dev,>=1.24.0, but you have google-auth 2.29.0 which is incompatible.\n",
      "google-cloud-storage 1.31.0 requires google-auth<2.0dev,>=1.11.0, but you have google-auth 2.29.0 which is incompatible.\n",
      "grpcio-status 1.62.2 requires protobuf>=4.21.6, but you have protobuf 3.20.3 which is incompatible.\n",
      "scrapegraphai 0.9.0 requires langchain==0.1.14, but you have langchain 0.1.0 which is incompatible.\n",
      "scrapegraphai 0.9.0 requires langchain-openai==0.1.1, but you have langchain-openai 0.0.2.post1 which is incompatible.\n",
      "tensorboard 2.10.0 requires protobuf<3.20,>=3.9.2, but you have protobuf 3.20.3 which is incompatible.\n",
      "tensorflow 2.10.0 requires protobuf<3.20,>=3.9.2, but you have protobuf 3.20.3 which is incompatible.\n"
     ]
    }
   ],
   "source": [
    "# !pip install streamlit\n",
    "# !pip uninstall protobuf\n",
    "# !pip install protobuf==3.20.*"
   ]
  },
  {
   "cell_type": "code",
   "execution_count": 1,
   "id": "0d87db8b",
   "metadata": {},
   "outputs": [],
   "source": [
    "import streamlit as st"
   ]
  },
  {
   "cell_type": "code",
   "execution_count": 4,
   "id": "a1b6d02b",
   "metadata": {
    "scrolled": true
   },
   "outputs": [],
   "source": [
    "df = get_data()"
   ]
  },
  {
   "cell_type": "code",
   "execution_count": 5,
   "id": "c2fdae1e",
   "metadata": {
    "scrolled": false
   },
   "outputs": [
    {
     "data": {
      "text/html": [
       "<div>\n",
       "<style scoped>\n",
       "    .dataframe tbody tr th:only-of-type {\n",
       "        vertical-align: middle;\n",
       "    }\n",
       "\n",
       "    .dataframe tbody tr th {\n",
       "        vertical-align: top;\n",
       "    }\n",
       "\n",
       "    .dataframe thead th {\n",
       "        text-align: right;\n",
       "    }\n",
       "</style>\n",
       "<table border=\"1\" class=\"dataframe\">\n",
       "  <thead>\n",
       "    <tr style=\"text-align: right;\">\n",
       "      <th></th>\n",
       "      <th>Bus_name</th>\n",
       "      <th>Bus_type</th>\n",
       "      <th>Start_time</th>\n",
       "      <th>End_time</th>\n",
       "      <th>Total_duration</th>\n",
       "      <th>Price</th>\n",
       "      <th>Seats_Available</th>\n",
       "      <th>Ratings</th>\n",
       "      <th>Route_link</th>\n",
       "      <th>Route_name</th>\n",
       "    </tr>\n",
       "  </thead>\n",
       "  <tbody>\n",
       "    <tr>\n",
       "      <th>0</th>\n",
       "      <td>KSRTC (Kerala) - 51</td>\n",
       "      <td>Swift Deluxe Non AC Air Bus (2+2)</td>\n",
       "      <td>19:04</td>\n",
       "      <td>04:24</td>\n",
       "      <td>09h 20m</td>\n",
       "      <td>640.0</td>\n",
       "      <td>2 Seats available</td>\n",
       "      <td>4.4</td>\n",
       "      <td>https://www.redbus.in/bus-tickets/bangalore-to...</td>\n",
       "      <td>Bangalore to Kozhikode</td>\n",
       "    </tr>\n",
       "    <tr>\n",
       "      <th>1</th>\n",
       "      <td>KSRTC (Kerala) - 789</td>\n",
       "      <td>Super Fast Non AC Seater (2+3)</td>\n",
       "      <td>20:00</td>\n",
       "      <td>04:25</td>\n",
       "      <td>08h 25m</td>\n",
       "      <td>473.0</td>\n",
       "      <td>4 Seats available</td>\n",
       "      <td>3.9</td>\n",
       "      <td>https://www.redbus.in/bus-tickets/bangalore-to...</td>\n",
       "      <td>Bangalore to Kozhikode</td>\n",
       "    </tr>\n",
       "    <tr>\n",
       "      <th>2</th>\n",
       "      <td>KSRTC (Kerala) - 1585</td>\n",
       "      <td>Super Express Non AC Seater Air Bus (2+2)</td>\n",
       "      <td>20:31</td>\n",
       "      <td>05:36</td>\n",
       "      <td>09h 05m</td>\n",
       "      <td>640.0</td>\n",
       "      <td>13 Seats available</td>\n",
       "      <td>3.8</td>\n",
       "      <td>https://www.redbus.in/bus-tickets/bangalore-to...</td>\n",
       "      <td>Bangalore to Kozhikode</td>\n",
       "    </tr>\n",
       "    <tr>\n",
       "      <th>3</th>\n",
       "      <td>KSRTC (Kerala) - 1586</td>\n",
       "      <td>Super Express Non AC Seater Air Bus (2+2)</td>\n",
       "      <td>21:31</td>\n",
       "      <td>06:36</td>\n",
       "      <td>09h 05m</td>\n",
       "      <td>640.0</td>\n",
       "      <td>26 Seats available</td>\n",
       "      <td>3.4</td>\n",
       "      <td>https://www.redbus.in/bus-tickets/bangalore-to...</td>\n",
       "      <td>Bangalore to Kozhikode</td>\n",
       "    </tr>\n",
       "    <tr>\n",
       "      <th>4</th>\n",
       "      <td>KSRTC (Kerala) - 2133</td>\n",
       "      <td>Swift Deluxe Non AC Air Bus (2+2)</td>\n",
       "      <td>22:12</td>\n",
       "      <td>07:36</td>\n",
       "      <td>09h 24m</td>\n",
       "      <td>640.0</td>\n",
       "      <td>22 Seats available</td>\n",
       "      <td>4.1</td>\n",
       "      <td>https://www.redbus.in/bus-tickets/bangalore-to...</td>\n",
       "      <td>Bangalore to Kozhikode</td>\n",
       "    </tr>\n",
       "  </tbody>\n",
       "</table>\n",
       "</div>"
      ],
      "text/plain": [
       "                Bus_name                                   Bus_type  \\\n",
       "0    KSRTC (Kerala) - 51          Swift Deluxe Non AC Air Bus (2+2)   \n",
       "1   KSRTC (Kerala) - 789             Super Fast Non AC Seater (2+3)   \n",
       "2  KSRTC (Kerala) - 1585  Super Express Non AC Seater Air Bus (2+2)   \n",
       "3  KSRTC (Kerala) - 1586  Super Express Non AC Seater Air Bus (2+2)   \n",
       "4  KSRTC (Kerala) - 2133          Swift Deluxe Non AC Air Bus (2+2)   \n",
       "\n",
       "  Start_time End_time Total_duration  Price     Seats_Available  Ratings  \\\n",
       "0      19:04    04:24        09h 20m  640.0   2 Seats available      4.4   \n",
       "1      20:00    04:25        08h 25m  473.0   4 Seats available      3.9   \n",
       "2      20:31    05:36        09h 05m  640.0  13 Seats available      3.8   \n",
       "3      21:31    06:36        09h 05m  640.0  26 Seats available      3.4   \n",
       "4      22:12    07:36        09h 24m  640.0  22 Seats available      4.1   \n",
       "\n",
       "                                          Route_link              Route_name  \n",
       "0  https://www.redbus.in/bus-tickets/bangalore-to...  Bangalore to Kozhikode  \n",
       "1  https://www.redbus.in/bus-tickets/bangalore-to...  Bangalore to Kozhikode  \n",
       "2  https://www.redbus.in/bus-tickets/bangalore-to...  Bangalore to Kozhikode  \n",
       "3  https://www.redbus.in/bus-tickets/bangalore-to...  Bangalore to Kozhikode  \n",
       "4  https://www.redbus.in/bus-tickets/bangalore-to...  Bangalore to Kozhikode  "
      ]
     },
     "execution_count": 5,
     "metadata": {},
     "output_type": "execute_result"
    }
   ],
   "source": [
    "df.head()"
   ]
  },
  {
   "cell_type": "code",
   "execution_count": 8,
   "id": "3e3dfec1",
   "metadata": {},
   "outputs": [],
   "source": [
    "# Streamlit app code\n",
    "def app():\n",
    "    st.title(\"Bus Details Data Analysis\")\n",
    "\n",
    "    # Load data from PostgreSQL\n",
    "    df = get_data()\n",
    "\n",
    "    # Show the data in a table before filtering\n",
    "    st.subheader(\"Raw Data\")\n",
    "    st.write(df)\n",
    "\n",
    "    # Add filter options using Streamlit widgets\n",
    "    st.sidebar.subheader(\"Filter Options\")\n",
    "\n",
    "    # Bus type filter\n",
    "    bus_types = st.sidebar.multiselect(\"Select Bus Type\", df['Bus_type'].unique())\n",
    "    if bus_types:\n",
    "        df = df[df['Bus_type'].isin(bus_types)]\n",
    "    \n",
    "    # Price range filter\n",
    "    min_price, max_price = st.sidebar.slider(\"Select Price Range\", float(df['Price'].min()), float(df['Price'].max()), (float(df['Price'].min()), float(df['Price'].max())))\n",
    "    df = df[(df['Price'] >= min_price) & (df['Price'] <= max_price)]\n",
    "\n",
    "    # Start Time filter\n",
    "    start_time = st.sidebar.selectbox(\"Select Start Time\", df['Start_time'].unique())\n",
    "    if start_time:\n",
    "        df = df[df['Start_time'] == start_time]\n",
    "\n",
    "    # Show the filtered data\n",
    "    st.subheader(\"Filtered Data\")\n",
    "    st.write(df)\n",
    "\n",
    "    # Show some statistics based on the filtered data\n",
    "    st.subheader(\"Statistics\")\n",
    "    st.write(df.describe())"
   ]
  },
  {
   "cell_type": "code",
   "execution_count": 9,
   "id": "27ce97e6",
   "metadata": {},
   "outputs": [
    {
     "name": "stderr",
     "output_type": "stream",
     "text": [
      "2024-08-29 14:15:49.834 Session state does not function when running a script without `streamlit run`\n"
     ]
    }
   ],
   "source": [
    "if __name__ == \"__main__\":\n",
    "    app()"
   ]
  },
  {
   "cell_type": "code",
   "execution_count": null,
   "id": "df8e18bc",
   "metadata": {},
   "outputs": [],
   "source": []
  }
 ],
 "metadata": {
  "kernelspec": {
   "display_name": "Python 3 (ipykernel)",
   "language": "python",
   "name": "python3"
  },
  "language_info": {
   "codemirror_mode": {
    "name": "ipython",
    "version": 3
   },
   "file_extension": ".py",
   "mimetype": "text/x-python",
   "name": "python",
   "nbconvert_exporter": "python",
   "pygments_lexer": "ipython3",
   "version": "3.9.12"
  }
 },
 "nbformat": 4,
 "nbformat_minor": 5
}
